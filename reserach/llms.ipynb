{
 "cells": [
  {
   "cell_type": "code",
   "execution_count": 1,
   "metadata": {},
   "outputs": [
    {
     "data": {
      "text/plain": [
       "True"
      ]
     },
     "execution_count": 1,
     "metadata": {},
     "output_type": "execute_result"
    }
   ],
   "source": [
    "import os\n",
    "from dotenv import load_dotenv\n",
    "\n",
    "from langchain.model_laboratory import ModelLaboratory\n",
    "from langchain.prompts import PromptTemplate\n",
    "from langchain_openai import OpenAI\n",
    "from langchain_community.llms import LlamaCpp  # llama-cpp-python==0.1.78\n",
    "# https://huggingface.co/TheBloke/Llama-2-13B-GGML/tree/main\n",
    "# https://python.langchain.com/docs/integrations/llms/llamacpp\n",
    "\n",
    "from llm_agent.utils.paths import PROJECT_ROOT\n",
    "\n",
    "\n",
    "load_dotenv(\"../secrets.env\")"
   ]
  },
  {
   "cell_type": "code",
   "execution_count": 2,
   "metadata": {},
   "outputs": [
    {
     "name": "stderr",
     "output_type": "stream",
     "text": [
      "AVX = 1 | AVX2 = 1 | AVX512 = 0 | AVX512_VBMI = 0 | AVX512_VNNI = 0 | FMA = 1 | NEON = 0 | ARM_FMA = 0 | F16C = 1 | FP16_VA = 0 | WASM_SIMD = 0 | BLAS = 0 | SSE3 = 1 | VSX = 0 | \n"
     ]
    }
   ],
   "source": [
    "llama_model_path = (PROJECT_ROOT / \"models\" / \"openorca-platypus2-13b.ggmlv3.q2_K.bin\").resolve()\n",
    "\n",
    "llms = [\n",
    "    OpenAI(temperature=0, api_key=os.getenv('OPENAI_API_KEY')),\n",
    "    LlamaCpp(\n",
    "        model_path=str(llama_model_path),\n",
    "        n_gpu_layers=1,\n",
    "        n_batch=512,\n",
    "        n_ctx=2048,\n",
    "        f16_kv=True,\n",
    "        verbose=True\n",
    "    )\n",
    "]"
   ]
  },
  {
   "cell_type": "code",
   "execution_count": 3,
   "metadata": {},
   "outputs": [],
   "source": [
    "model_lab = ModelLaboratory.from_llms(llms)"
   ]
  },
  {
   "cell_type": "code",
   "execution_count": 4,
   "metadata": {},
   "outputs": [
    {
     "name": "stdout",
     "output_type": "stream",
     "text": [
      "\u001b[1mInput:\u001b[0m\n",
      "What color is a flamingo?\n",
      "\n",
      "\u001b[1mOpenAI\u001b[0m\n",
      "Params: {'model_name': 'gpt-3.5-turbo-instruct', 'temperature': 0.0, 'top_p': 1, 'frequency_penalty': 0, 'presence_penalty': 0, 'n': 1, 'logit_bias': {}, 'max_tokens': 256}\n",
      "\u001b[36;1m\u001b[1;3m\n",
      "\n",
      "A flamingo is typically pink in color.\u001b[0m\n",
      "\n",
      "\u001b[1mLlamaCpp\u001b[0m\n",
      "Params: {'model_path': 'C:\\\\Users\\\\gerar\\\\Projects\\\\langchain-agent-hydra-template\\\\models\\\\openorca-platypus2-13b.ggmlv3.q2_K.bin', 'suffix': None, 'max_tokens': 256, 'temperature': 0.8, 'top_p': 0.95, 'logprobs': None, 'echo': False, 'stop_sequences': [], 'repeat_penalty': 1.1, 'top_k': 40}\n",
      "\u001b[33;1m\u001b[1;3m\n",
      "Flamingos are pink. This bright pink color comes from the carotenoid pigments they consume in their diet, such as algae and brine shrimp. These pigments are then converted into various pink pigments by enzymes in their bodies.\n",
      "\n",
      "There is a common misconception that flamingos' legs are longer than other birds. However, this isn't true. Flamingo legs are generally the same length as those of other birds of the same size. The seemingly elongated look may be due to the way they hold their legs while standing or wading.\n",
      "\n",
      "Flamingos can reach heights of up to 5 feet (1.5 meters) and weigh around 6 pounds (3 kg). They have long, slender necks, which often curve over their backs when walking. Their heads are large, with long, curved beaks that are adapted for filtering water and feeding on small aquatic organisms.\n",
      "\n",
      "Flamingo feathers aren't strong enough to keep them aloft, so they rely primarily on their legs and long necks to support their body weight in the air. This unique an\u001b[0m\n",
      "\n"
     ]
    }
   ],
   "source": [
    "model_lab.compare(\"What color is a flamingo?\")"
   ]
  },
  {
   "cell_type": "code",
   "execution_count": null,
   "metadata": {},
   "outputs": [],
   "source": []
  }
 ],
 "metadata": {
  "kernelspec": {
   "display_name": ".venv",
   "language": "python",
   "name": "python3"
  },
  "language_info": {
   "codemirror_mode": {
    "name": "ipython",
    "version": 3
   },
   "file_extension": ".py",
   "mimetype": "text/x-python",
   "name": "python",
   "nbconvert_exporter": "python",
   "pygments_lexer": "ipython3",
   "version": "3.10.11"
  }
 },
 "nbformat": 4,
 "nbformat_minor": 2
}
