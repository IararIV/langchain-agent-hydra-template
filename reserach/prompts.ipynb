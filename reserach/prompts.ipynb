{
 "cells": [
  {
   "cell_type": "code",
   "execution_count": 1,
   "metadata": {},
   "outputs": [],
   "source": [
    "from langchain_core.prompts import PromptTemplate, ChatPromptTemplate"
   ]
  },
  {
   "cell_type": "code",
   "execution_count": 6,
   "metadata": {},
   "outputs": [],
   "source": [
    "chat_template = ChatPromptTemplate.from_messages(\n",
    "    [\n",
    "        (\"system\", \"You are a helpful AI bot. Your name is {name}.\"),\n",
    "        (\"human\", \"Hello, how are you doing?\"),\n",
    "        (\"ai\", \"I'm doing well, thanks!\"),\n",
    "        (\"human\", \"{user_input}\"),\n",
    "    ]\n",
    ")"
   ]
  },
  {
   "cell_type": "code",
   "execution_count": 7,
   "metadata": {},
   "outputs": [
    {
     "data": {
      "text/plain": [
       "ChatPromptValue(messages=[SystemMessage(content='You are a helpful AI bot. Your name is Bob.'), HumanMessage(content='Hello, how are you doing?'), AIMessage(content=\"I'm doing well, thanks!\"), HumanMessage(content='What is your name?')])"
      ]
     },
     "execution_count": 7,
     "metadata": {},
     "output_type": "execute_result"
    }
   ],
   "source": [
    "messages = chat_template.invoke({\"name\": \"Bob\", \"user_input\": \"What is your name?\"})\n",
    "messages"
   ]
  },
  {
   "cell_type": "markdown",
   "metadata": {},
   "source": [
    "## ChatPromptTemplate + core messages"
   ]
  },
  {
   "cell_type": "code",
   "execution_count": 8,
   "metadata": {},
   "outputs": [],
   "source": [
    "from langchain.prompts import SystemMessagePromptTemplate, HumanMessagePromptTemplate\n",
    "from langchain_core.messages import SystemMessage"
   ]
  },
  {
   "cell_type": "code",
   "execution_count": 9,
   "metadata": {},
   "outputs": [
    {
     "name": "stdout",
     "output_type": "stream",
     "text": [
      "[SystemMessage(content=\"You are a helpful assistant that re-writes the user's text to sound more upbeat.\"), HumanMessage(content=\"I don't like eating tasty things\")]\n"
     ]
    }
   ],
   "source": [
    "\n",
    "chat_template = ChatPromptTemplate.from_messages(\n",
    "    [\n",
    "        SystemMessagePromptTemplate.from_template(\n",
    "            (\n",
    "                \"You are a helpful assistant that re-writes the user's text to \"\n",
    "                \"sound more upbeat.\"\n",
    "            )\n",
    "        ),\n",
    "        HumanMessagePromptTemplate.from_template(\"{text}\"),\n",
    "    ]\n",
    ")\n",
    "messages = chat_template.format_messages(text=\"I don't like eating tasty things\")\n",
    "print(messages)"
   ]
  },
  {
   "cell_type": "markdown",
   "metadata": {},
   "source": [
    "# Asistente legal prompts"
   ]
  },
  {
   "cell_type": "code",
   "execution_count": 29,
   "metadata": {},
   "outputs": [],
   "source": [
    "from hydra.utils import instantiate\n",
    "from omegaconf import OmegaConf\n",
    "from llm_agent.utils.paths import PROMPTS_CONFIG_PATH"
   ]
  },
  {
   "cell_type": "code",
   "execution_count": 35,
   "metadata": {},
   "outputs": [],
   "source": [
    "with (PROMPTS_CONFIG_PATH / \"system.yaml\") as fp:\n",
    "    system_config = OmegaConf.load(fp)\n",
    "    OmegaConf.resolve(system_config)\n",
    "    system_config = instantiate(system_config)\n",
    "    \n",
    "with (PROMPTS_CONFIG_PATH / \"human.yaml\") as fp:\n",
    "    human_config = OmegaConf.load(fp)\n",
    "    OmegaConf.resolve(human_config)\n",
    "    human_config = instantiate(human_config)"
   ]
  },
  {
   "cell_type": "code",
   "execution_count": 43,
   "metadata": {},
   "outputs": [
    {
     "data": {
      "text/plain": [
       "SystemMessagePromptTemplate(prompt=PromptTemplate(input_variables=['ccaa', 'country'], template='Eres un asistente legal que debe seguir la siguientes instrucciones:\\nNombre del Asistente: Asistente Legal Ámbito de Operación: Comunidad Autónoma {ccaa}, {country} Idioma de Operación: Español\\nFunciones Principales: 1. Asistir en todo tipo de tareas legales específicas de la Comunidad Autónoma [Nombre de la Comunidad]. 2. Proporcionar apoyo y asesoramiento confiable y preciso en cuestiones jurídicas. 3. Mantener las interacciones y respuestas exclusivamente en español. 4. Limitar las actividades y respuestas a temas estrictamente relacionados con el derecho.\\nInstrucciones Adicionales: - El asistente debe priorizar la precisión y la actualidad en la información legal proporcionada. - Se debe garantizar la confidencialidad y la seguridad de los datos en todas las interacciones. - El asistente debe ser capaz de referir al usuario a recursos legales adicionales o expertos en derecho cuando sea necesario.\\n'))"
      ]
     },
     "execution_count": 43,
     "metadata": {},
     "output_type": "execute_result"
    }
   ],
   "source": [
    "system_prompt = SystemMessagePromptTemplate.from_template((system_config.agent_base_system_prompt))\n",
    "system_prompt"
   ]
  },
  {
   "cell_type": "code",
   "execution_count": 45,
   "metadata": {},
   "outputs": [
    {
     "data": {
      "text/plain": [
       "HumanMessagePromptTemplate(prompt=PromptTemplate(input_variables=['context', 'message'], template='Debes ayudar en la siguiente tarea: {message}.   Utiliza la siguiente información para realizar la taera: {context}.\\n'))"
      ]
     },
     "execution_count": 45,
     "metadata": {},
     "output_type": "execute_result"
    }
   ],
   "source": [
    "human_prompt_1 = HumanMessagePromptTemplate.from_template(human_config.generate_document_prompt)\n",
    "human_prompt_1"
   ]
  },
  {
   "cell_type": "code",
   "execution_count": 46,
   "metadata": {},
   "outputs": [
    {
     "data": {
      "text/plain": [
       "HumanMessagePromptTemplate(prompt=PromptTemplate(input_variables=['context'], template='Debes escribir una instancia a partir de la informacion proporcionada. Esta debe seguir la siguiente estructura: presentacion, exposición, solicitud, fecha, lugar y firma. Escribelo usando la siguiente información: {context}'))"
      ]
     },
     "execution_count": 46,
     "metadata": {},
     "output_type": "execute_result"
    }
   ],
   "source": [
    "human_prompt_2 = HumanMessagePromptTemplate.from_template(human_config.generate_instance_prompt)\n",
    "human_prompt_2"
   ]
  },
  {
   "cell_type": "code",
   "execution_count": 47,
   "metadata": {},
   "outputs": [],
   "source": [
    "chat_template = ChatPromptTemplate.from_messages(\n",
    "    [\n",
    "        system_prompt,\n",
    "        human_prompt_1,\n",
    "    ]\n",
    ")"
   ]
  },
  {
   "cell_type": "code",
   "execution_count": 53,
   "metadata": {},
   "outputs": [
    {
     "name": "stdout",
     "output_type": "stream",
     "text": [
      "System: Eres un asistente legal que debe seguir la siguientes instrucciones:\n",
      "Nombre del Asistente: Asistente Legal Ámbito de Operación: Comunidad Autónoma Cataluña, España Idioma de Operación: Español\n",
      "Funciones Principales: 1. Asistir en todo tipo de tareas legales específicas de la Comunidad Autónoma [Nombre de la Comunidad]. 2. Proporcionar apoyo y asesoramiento confiable y preciso en cuestiones jurídicas. 3. Mantener las interacciones y respuestas exclusivamente en español. 4. Limitar las actividades y respuestas a temas estrictamente relacionados con el derecho.\n",
      "Instrucciones Adicionales: - El asistente debe priorizar la precisión y la actualidad en la información legal proporcionada. - Se debe garantizar la confidencialidad y la seguridad de los datos en todas las interacciones. - El asistente debe ser capaz de referir al usuario a recursos legales adicionales o expertos en derecho cuando sea necesario.\n",
      "\n",
      "Human: Debes ayudar en la siguiente tarea: Contrato de arrendamiento.   Utiliza la siguiente información para realizar la taera: DNI 12345678V.\n",
      "\n"
     ]
    }
   ],
   "source": [
    "print(chat_template.invoke({\"ccaa\": \"Cataluña\", \"country\": \"España\", \"message\": \"Contrato de arrendamiento\", \"context\": \"DNI 12345678V\"}).to_string())"
   ]
  }
 ],
 "metadata": {
  "kernelspec": {
   "display_name": ".venv",
   "language": "python",
   "name": "python3"
  },
  "language_info": {
   "codemirror_mode": {
    "name": "ipython",
    "version": 3
   },
   "file_extension": ".py",
   "mimetype": "text/x-python",
   "name": "python",
   "nbconvert_exporter": "python",
   "pygments_lexer": "ipython3",
   "version": "3.10.11"
  }
 },
 "nbformat": 4,
 "nbformat_minor": 2
}
