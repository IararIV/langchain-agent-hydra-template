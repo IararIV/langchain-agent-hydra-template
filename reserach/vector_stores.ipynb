{
 "cells": [
  {
   "cell_type": "code",
   "execution_count": 47,
   "metadata": {},
   "outputs": [],
   "source": [
    "import os\n",
    "\n",
    "from dotenv import load_dotenv, find_dotenv\n",
    "\n",
    "from llm_agent.utils.hydra import get_agent_config\n",
    "from llm_agent.utils.paths import PROMPTS_CONFIG_PATH\n",
    "_ = load_dotenv(find_dotenv(\"../secrets.env\")) # read local .env file\n",
    "\n",
    "import warnings\n",
    "warnings.filterwarnings(\"ignore\")\n",
    "\n",
    "\n",
    "OPENAI_API_KEY = os.getenv('OPENAI_API_KEY')\n",
    "LANGCHAIN_API_KEY = os.getenv('LANGCHAIN_API_KEY')\n",
    "QDRANT_API_KEY = os.getenv('QDRANT_API_KEY')"
   ]
  },
  {
   "cell_type": "code",
   "execution_count": 48,
   "metadata": {},
   "outputs": [],
   "source": [
    "from langchain_openai.embeddings import OpenAIEmbeddings\n",
    "from langchain_community.document_loaders import TextLoader\n",
    "from langchain_community.embeddings.sentence_transformer import (\n",
    "    SentenceTransformerEmbeddings,\n",
    ")"
   ]
  },
  {
   "cell_type": "code",
   "execution_count": 49,
   "metadata": {},
   "outputs": [],
   "source": [
    "# load the document and split it into chunks\n",
    "loader = TextLoader(\"documents/articulo_67_consittucion.txt\")\n",
    "document1 = loader.load()\n",
    "\n",
    "loader = TextLoader(\"documents/articulo_155_constitucion.txt\")\n",
    "document2 = loader.load()\n",
    "\n",
    "docs = document1 + document2\n",
    "\n",
    "# create the open-source embedding function\n",
    "embedding_function = SentenceTransformerEmbeddings(model_name=\"all-MiniLM-L6-v2\")"
   ]
  },
  {
   "cell_type": "markdown",
   "metadata": {},
   "source": [
    "# 1. Qdrant"
   ]
  },
  {
   "cell_type": "code",
   "execution_count": 50,
   "metadata": {},
   "outputs": [],
   "source": [
    "from langchain_community.vectorstores import Qdrant\n",
    "from qdrant_client import QdrantClient\n",
    "from qdrant_client.http import models"
   ]
  },
  {
   "cell_type": "code",
   "execution_count": 51,
   "metadata": {},
   "outputs": [],
   "source": [
    "client = QdrantClient(\n",
    "    url=\"https://e55749a7-835b-40d8-af26-fde2f9cbfbb4.europe-west3-0.gcp.cloud.qdrant.io\",\n",
    "    api_key=QDRANT_API_KEY\n",
    ")"
   ]
  },
  {
   "cell_type": "code",
   "execution_count": 52,
   "metadata": {},
   "outputs": [
    {
     "data": {
      "text/plain": [
       "True"
      ]
     },
     "execution_count": 52,
     "metadata": {},
     "output_type": "execute_result"
    }
   ],
   "source": [
    "client.recreate_collection(\n",
    "    collection_name=\"boe\",\n",
    "    vectors_config=models.VectorParams(size=1536, distance=models.Distance.COSINE)\n",
    ")"
   ]
  },
  {
   "cell_type": "code",
   "execution_count": 40,
   "metadata": {},
   "outputs": [],
   "source": [
    "# Local db\n",
    "\n",
    "db = Qdrant.from_documents(\n",
    "    docs, embedding=OpenAIEmbeddings(api_key=os.getenv('OPENAI_API_KEY')), \n",
    "    location=\":memory:\",  # Local mode with in-memory storage only\n",
    ")"
   ]
  },
  {
   "cell_type": "code",
   "execution_count": 53,
   "metadata": {},
   "outputs": [
    {
     "data": {
      "text/plain": [
       "['bea5f939e4d54338b02fb92bf0264130', '10381b41c8754a26becf57d82a633ffa']"
      ]
     },
     "execution_count": 53,
     "metadata": {},
     "output_type": "execute_result"
    }
   ],
   "source": [
    "# Cloud db\n",
    "\n",
    "db = Qdrant(\n",
    "    client=QdrantClient(\n",
    "        url=\"https://e55749a7-835b-40d8-af26-fde2f9cbfbb4.europe-west3-0.gcp.cloud.qdrant.io\",\n",
    "        api_key=QDRANT_API_KEY\n",
    "    ),\n",
    "    collection_name=\"boe\",\n",
    "    embeddings=OpenAIEmbeddings(\n",
    "        api_key=OPENAI_API_KEY\n",
    "    )\n",
    ")\n",
    "\n",
    "db.add_documents(docs)"
   ]
  },
  {
   "cell_type": "code",
   "execution_count": 54,
   "metadata": {},
   "outputs": [],
   "source": [
    "query = \"Cual es al articulo 155?\"\n",
    "docs = db.similarity_search(query)"
   ]
  },
  {
   "cell_type": "code",
   "execution_count": 55,
   "metadata": {},
   "outputs": [
    {
     "data": {
      "text/plain": [
       "'ArtÃ\\xadculo 155\\n\\nSi una Comunidad AutÃ³noma no cumpliere las obligaciones que la ConstituciÃ³n u otras leyes le impongan, o actuare de forma que atente gravemente al interÃ©s general de EspaÃ±a, el Gobierno, previo requerimiento al Presidente de la Comunidad AutÃ³noma y, en el caso de no ser atendido, con la aprobaciÃ³n por mayorÃ\\xada absoluta del Senado, podrÃ¡ adoptar las medidas necesarias para obligar a aquÃ©lla al cumplimiento forzoso de dichas obligaciones o para la protecciÃ³n del mencionado interÃ©s general.\\nPara la ejecuciÃ³n de las medidas previstas en el apartado anterior, el Gobierno podrÃ¡ dar instrucciones a todas las autoridades de las Comunidades AutÃ³nomas.\\n'"
      ]
     },
     "execution_count": 55,
     "metadata": {},
     "output_type": "execute_result"
    }
   ],
   "source": [
    "docs[0].page_content"
   ]
  },
  {
   "cell_type": "markdown",
   "metadata": {},
   "source": [
    "# 2. Chroma"
   ]
  },
  {
   "cell_type": "code",
   "execution_count": 56,
   "metadata": {},
   "outputs": [],
   "source": [
    "from langchain_community.vectorstores import Chroma"
   ]
  },
  {
   "cell_type": "code",
   "execution_count": 57,
   "metadata": {},
   "outputs": [],
   "source": [
    "db = Chroma.from_documents(\n",
    "    docs, embedding=OpenAIEmbeddings(api_key=os.getenv('OPENAI_API_KEY'))\n",
    ")"
   ]
  },
  {
   "cell_type": "code",
   "execution_count": 58,
   "metadata": {},
   "outputs": [
    {
     "name": "stderr",
     "output_type": "stream",
     "text": [
      "Number of requested results 4 is greater than number of elements in index 2, updating n_results = 2\n"
     ]
    }
   ],
   "source": [
    "query = \"Cual es el articulo 67?\"\n",
    "docs = db.similarity_search(query)"
   ]
  },
  {
   "cell_type": "code",
   "execution_count": 59,
   "metadata": {},
   "outputs": [
    {
     "data": {
      "text/plain": [
       "'ArtÃ\\xadculo 67\\n\\n1. Nadie podrÃ¡ ser miembro de las dos CÃ¡maras simultÃ¡neamente, ni acumular el acta de una Asamblea de Comunidad AutÃ³noma con la de Diputado al Congreso.\\n2. Los miembros de las Cortes Generales no estarÃ¡n ligados por mandato imperativo.\\n3. Las reuniones de Parlamentarios que se celebren sin convocatoria reglamentaria no vincularÃ¡n a las CÃ¡maras, y no podrÃ¡n ejercer sus funciones ni ostentar sus privilegios.\\n'"
      ]
     },
     "execution_count": 59,
     "metadata": {},
     "output_type": "execute_result"
    }
   ],
   "source": [
    "docs[0].page_content"
   ]
  }
 ],
 "metadata": {
  "kernelspec": {
   "display_name": ".venv",
   "language": "python",
   "name": "python3"
  },
  "language_info": {
   "codemirror_mode": {
    "name": "ipython",
    "version": 3
   },
   "file_extension": ".py",
   "mimetype": "text/x-python",
   "name": "python",
   "nbconvert_exporter": "python",
   "pygments_lexer": "ipython3",
   "version": "3.10.11"
  }
 },
 "nbformat": 4,
 "nbformat_minor": 2
}
